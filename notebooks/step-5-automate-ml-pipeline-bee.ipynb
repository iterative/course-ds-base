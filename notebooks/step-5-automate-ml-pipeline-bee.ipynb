{
 "cells": [
  {
   "cell_type": "markdown",
   "metadata": {},
   "source": [
    "## 1.0 Change working Directory to Root Directory"
   ]
  },
  {
   "cell_type": "code",
   "execution_count": 1,
   "metadata": {},
   "outputs": [
    {
     "name": "stdout",
     "output_type": "stream",
     "text": [
      "/mnt/c/Users/MR-BEST/course-ds-base-root/course-ds-base\n"
     ]
    },
    {
     "name": "stderr",
     "output_type": "stream",
     "text": [
      "/home/mr-best/.local/lib/python3.10/site-packages/IPython/core/magics/osm.py:417: UserWarning: using dhist requires you to install the `pickleshare` library.\n",
      "  self.shell.db['dhist'] = compress_dhist(dhist)[-100:]\n"
     ]
    }
   ],
   "source": [
    "# Set the repository root as a working directory \n",
    "%cd .."
   ]
  },
  {
   "cell_type": "markdown",
   "metadata": {},
   "source": [
    "### 0.1 Init DVC repository\n",
    " 2.1 Init DVC repository and setup DVC remote storage\n",
    "\n",
    "dvc init\n",
    "\n",
    "2.2 Add DVC repository under git control\n",
    "\n",
    "git add .\n",
    "git commit -m \"Init DVC repo\"\n",
    "\n",
    "# 0.2 View config"
   ]
  },
  {
   "cell_type": "code",
   "execution_count": 2,
   "metadata": {},
   "outputs": [
    {
     "name": "stdout",
     "output_type": "stream",
     "text": [
      "#### Initial state before the update\n",
      "\n",
      "# base:\n",
      "#   random_state: 42\n",
      "#   log_level: INFO\n",
      "\n",
      "# data:\n",
      "  # dataset_csv: 'data/raw/iris.csv'\n",
      "#   features_path: 'data/processed/featured_iris.csv'\n",
      "#   test_size: 0.2\n",
      "#   trainset_path: 'data/processed/train_iris.csv'\n",
      "#   testset_path: 'data/processed/test_iris.csv'\n",
      "\n",
      "\n",
      "# train:\n",
      "#   clf_params:\n",
      "#     'C': 0.001\n",
      "#     'solver': 'lbfgs'\n",
      "#     'multi_class': 'multinomial'\n",
      "#     'max_iter': 100\n",
      "#   model_path: 'models/model.joblib'\n",
      "\n",
      "# reports:\n",
      "#   metrics_file: 'reports/metrics.json'\n",
      "#   confusion_matrix_image: 'reports/confusion_matrix.png'\n",
      "\n",
      "  #### Newer Versions of Metrics\n",
      "\n",
      "  \n",
      "base:\n",
      "  random_state: 42\n",
      "  log_level: INFO\n",
      "\n",
      "\n",
      "data_load:\n",
      "  dataset_csv: 'data/raw/iris.csv'\n",
      "\n",
      "\n",
      "featurize:\n",
      "  features_path: 'data/processed/featured_iris.csv'\n",
      "  target_column: target\n",
      "\n",
      "\n",
      "data_split:\n",
      "  test_size: 0.2\n",
      "  trainset_path: 'data/processed/train_iris.csv'\n",
      "  testset_path: 'data/processed/test_iris.csv'\n",
      "\n",
      "\n",
      "train:\n",
      "\n",
      "  cv: 3\n",
      "  estimator_name: logreg\n",
      "  estimators:\n",
      "    logreg: # sklearn.linear_model.LogisticRegression\n",
      "      param_grid: # params of GridSearchCV constructor\n",
      "        C: [0.001]\n",
      "        max_iter: [100]\n",
      "        solver: ['lbfgs']\n",
      "        multi_class: ['multinomial']\n",
      "    svm: # sklearn.svm.SVC\n",
      "      param_grid:\n",
      "        C: [0.1, 1.0]\n",
      "        kernel: ['rbf', 'linear']\n",
      "        gamma: ['scale']\n",
      "        degree: [3, 5]\n",
      "  model_path: models/model.joblib\n",
      "\n",
      "\n",
      "evaluate:\n",
      "  reports_dir: reports\n",
      "  metrics_file: 'metrics.json'\n",
      "  confusion_matrix_image: 'confusion_matrix.png'"
     ]
    }
   ],
   "source": [
    "# Look on stages config \n",
    "!cat params.yaml"
   ]
  },
  {
   "cell_type": "markdown",
   "metadata": {},
   "source": [
    "###  Create and run stages for a DVC pipeline\n",
    "\n",
    "##  First Stage of ML Pipeline : Extract and Raw Load Data"
   ]
  },
  {
   "cell_type": "markdown",
   "metadata": {},
   "source": [
    "dvc stage add -n data_load \\\n",
    "    -d src/stages/data_load.py \\\n",
    "    -o data/raw/iris.csv \\\n",
    "    -p base,data_load \\\n",
    "    python src/stages/data_load.py --config=params.yaml"
   ]
  },
  {
   "cell_type": "markdown",
   "metadata": {},
   "source": [
    "# Featurization"
   ]
  },
  {
   "cell_type": "markdown",
   "metadata": {},
   "source": [
    "dvc stage add -n featurize \\\n",
    "    -d src/stages/featurize.py \\\n",
    "    -d data/raw/iris.csv \\\n",
    "    -o data/processed/featured_iris.csv \\\n",
    "    -p base,featurize \\\n",
    "    python src/stages/featurize.py --config=params.yaml"
   ]
  },
  {
   "cell_type": "markdown",
   "metadata": {},
   "source": [
    "## 3 Split dataset into train/test edited directly into the dvc.yaml config file"
   ]
  },
  {
   "cell_type": "markdown",
   "metadata": {},
   "source": [
    "data_split:\n",
    "    cmd: python src/stages/data_split.py --config=params.yaml\n",
    "    deps:\n",
    "    - data/processed/featured_iris.csv\n",
    "    - src/stages/data_split.py\n",
    "    params:\n",
    "    - base\n",
    "    - data_split\n",
    "    - featurize\n",
    "    outs:\n",
    "    - data/processed/test_iris.csv\n",
    "    - data/processed/train_iris.csv"
   ]
  },
  {
   "cell_type": "markdown",
   "metadata": {},
   "source": [
    "## 4 Train Model"
   ]
  },
  {
   "cell_type": "markdown",
   "metadata": {},
   "source": [
    "train:\n",
    "    cmd: python src/stages/train.py --config=params.yaml\n",
    "    deps:\n",
    "    - data/processed/test_iris.csv\n",
    "    - data/processed/train_iris.csv\n",
    "    - src/stages/train.py\n",
    "    params:\n",
    "    - base\n",
    "    - train\n",
    "    outs:\n",
    "    - models/model.joblib"
   ]
  },
  {
   "cell_type": "markdown",
   "metadata": {},
   "source": [
    "## 5 Evaluate Model with Test Data"
   ]
  },
  {
   "cell_type": "code",
   "execution_count": 22,
   "metadata": {},
   "outputs": [
    {
     "name": "stdout",
     "output_type": "stream",
     "text": [
      "2024-01-15 10:22:31,528 — TRAIN — INFO — Get model/estimator name\n",
      "2024-01-15 10:22:31,529 — TRAIN — INFO — The name of Model/Estimator: logreg\n",
      "2024-01-15 10:22:31,530 — TRAIN — INFO — Load train dataset\n",
      "2024-01-15 10:22:31,544 — TRAIN — INFO — Train model/estimator\n",
      "Fitting 3 folds for each of 1 candidates, totalling 3 fits\n",
      "2024-01-15 10:22:31,577 — TRAIN — INFO — Best score: 0.857564307288572\n",
      "2024-01-15 10:22:31,578 — TRAIN — INFO — Trained Model Saved\n"
     ]
    }
   ],
   "source": [
    "evaluate:\n",
    "    cmd: python src/stages/evaluate.py --config=params.yaml\n",
    "    deps:\n",
    "    - models/model.joblib\n",
    "    - data/processed/test_iris.csv\n",
    "\n",
    "    params:\n",
    "    - base\n",
    "    - train\n",
    "    - data_split\n",
    "    - featurize\n",
    "    - evaluate\n",
    "    outs:\n",
    "    - metrics.json\n",
    "    - confusion_matrix.png"
   ]
  },
  {
   "cell_type": "code",
   "execution_count": null,
   "metadata": {},
   "outputs": [],
   "source": [
    "#  MAnual entry on bash shell\n",
    "\n",
    "dvc stage add -n evaluate \\\n",
    "    -d models/model.joblib \\\n",
    "    -d data/processed/test_iris.csv\\\n",
    "    -o metrics.json \\\n",
    "    -o confusion_matrix.png\\\n",
    "    -p base, evaluate \\\n",
    "    python src/stages/evaluate.py --config=params.yaml"
   ]
  }
 ],
 "metadata": {
  "kernelspec": {
   "display_name": "Python 3 (ipykernel)",
   "language": "python",
   "name": "python3"
  },
  "language_info": {
   "codemirror_mode": {
    "name": "ipython",
    "version": 3
   },
   "file_extension": ".py",
   "mimetype": "text/x-python",
   "name": "python",
   "nbconvert_exporter": "python",
   "pygments_lexer": "ipython3",
   "version": "3.10.12"
  },
  "toc": {
   "base_numbering": 1,
   "nav_menu": {},
   "number_sections": true,
   "sideBar": true,
   "skip_h1_title": false,
   "title_cell": "Table of Contents",
   "title_sidebar": "Contents",
   "toc_cell": false,
   "toc_position": {},
   "toc_section_display": true,
   "toc_window_display": true
  },
  "varInspector": {
   "cols": {
    "lenName": 16,
    "lenType": 16,
    "lenVar": 40
   },
   "kernels_config": {
    "python": {
     "delete_cmd_postfix": "",
     "delete_cmd_prefix": "del ",
     "library": "var_list.py",
     "varRefreshCmd": "print(var_dic_list())"
    },
    "r": {
     "delete_cmd_postfix": ") ",
     "delete_cmd_prefix": "rm(",
     "library": "var_list.r",
     "varRefreshCmd": "cat(var_dic_list()) "
    }
   },
   "types_to_exclude": [
    "module",
    "function",
    "builtin_function_or_method",
    "instance",
    "_Feature"
   ],
   "window_display": false
  }
 },
 "nbformat": 4,
 "nbformat_minor": 4
}
