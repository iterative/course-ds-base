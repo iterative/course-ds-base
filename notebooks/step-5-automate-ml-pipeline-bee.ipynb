{
 "cells": [
  {
   "cell_type": "markdown",
   "metadata": {},
   "source": [
    "## 1.0 Change working Directory to Root Directory"
   ]
  },
  {
   "cell_type": "code",
   "execution_count": 1,
   "metadata": {},
   "outputs": [
    {
     "name": "stdout",
     "output_type": "stream",
     "text": [
      "/mnt/c/Users/MR-BEST/course-ds-base-root/course-ds-base\n"
     ]
    },
    {
     "name": "stderr",
     "output_type": "stream",
     "text": [
      "/home/mr-best/.local/lib/python3.10/site-packages/IPython/core/magics/osm.py:417: UserWarning: using dhist requires you to install the `pickleshare` library.\n",
      "  self.shell.db['dhist'] = compress_dhist(dhist)[-100:]\n"
     ]
    }
   ],
   "source": [
    "# Set the repository root as a working directory \n",
    "%cd .."
   ]
  },
  {
   "cell_type": "markdown",
   "metadata": {},
   "source": [
    "### 2.0 Init DVC repository\n",
    " 2.1 Init DVC repository and setup DVC remote storage\n",
    "\n",
    "dvc init\n",
    "\n",
    "2.2 Add DVC repository under git control\n",
    "\n",
    "git add .\n",
    "git commit -m \"Init DVC repo\"\n",
    "\n",
    "# 2.3 View config"
   ]
  },
  {
   "cell_type": "code",
   "execution_count": 2,
   "metadata": {},
   "outputs": [
    {
     "name": "stdout",
     "output_type": "stream",
     "text": [
      "#### Initial state before the update\n",
      "\n",
      "# base:\n",
      "#   random_state: 42\n",
      "#   log_level: INFO\n",
      "\n",
      "# data:\n",
      "  # dataset_csv: 'data/raw/iris.csv'\n",
      "#   features_path: 'data/processed/featured_iris.csv'\n",
      "#   test_size: 0.2\n",
      "#   trainset_path: 'data/processed/train_iris.csv'\n",
      "#   testset_path: 'data/processed/test_iris.csv'\n",
      "\n",
      "\n",
      "# train:\n",
      "#   clf_params:\n",
      "#     'C': 0.001\n",
      "#     'solver': 'lbfgs'\n",
      "#     'multi_class': 'multinomial'\n",
      "#     'max_iter': 100\n",
      "#   model_path: 'models/model.joblib'\n",
      "\n",
      "# reports:\n",
      "#   metrics_file: 'reports/metrics.json'\n",
      "#   confusion_matrix_image: 'reports/confusion_matrix.png'\n",
      "\n",
      "  #### Newer Versions of Metrics\n",
      "\n",
      "  \n",
      "base:\n",
      "  random_state: 42\n",
      "  log_level: INFO\n",
      "\n",
      "\n",
      "data_load:\n",
      "  dataset_csv: 'data/raw/iris.csv'\n",
      "\n",
      "\n",
      "featurize:\n",
      "  features_path: 'data/processed/featured_iris.csv'\n",
      "  target_column: target\n",
      "\n",
      "\n",
      "data_split:\n",
      "  test_size: 0.2\n",
      "  trainset_path: 'data/processed/train_iris.csv'\n",
      "  testset_path: 'data/processed/test_iris.csv'\n",
      "\n",
      "\n",
      "train:\n",
      "\n",
      "  cv: 3\n",
      "  estimator_name: logreg\n",
      "  estimators:\n",
      "    logreg: # sklearn.linear_model.LogisticRegression\n",
      "      param_grid: # params of GridSearchCV constructor\n",
      "        C: [0.001]\n",
      "        max_iter: [100]\n",
      "        solver: ['lbfgs']\n",
      "        multi_class: ['multinomial']\n",
      "    svm: # sklearn.svm.SVC\n",
      "      param_grid:\n",
      "        C: [0.1, 1.0]\n",
      "        kernel: ['rbf', 'linear']\n",
      "        gamma: ['scale']\n",
      "        degree: [3, 5]\n",
      "  model_path: models/model.joblib\n",
      "\n",
      "\n",
      "evaluate:\n",
      "  reports_dir: reports\n",
      "  metrics_file: 'metrics.json'\n",
      "  confusion_matrix_image: 'confusion_matrix.png'"
     ]
    }
   ],
   "source": [
    "# Look on stages config \n",
    "!cat params.yaml"
   ]
  },
  {
   "cell_type": "markdown",
   "metadata": {},
   "source": [
    "### 3.0 Create and run stages for a DVC pipeline\n",
    "\n",
    "## 3.1 First Stage of ML Pipeline : Extract and Raw Load Data"
   ]
  },
  {
   "cell_type": "code",
   "execution_count": null,
   "metadata": {},
   "outputs": [],
   "source": [
    "dvc stage add -n data_load \\\n",
    "    -d src/stages/data_load.py \\\n",
    "    -o data/raw/iris.csv \\\n",
    "    -p base,data_load \\\n",
    "    python src/stages/data_load.py --config=params.yaml"
   ]
  },
  {
   "cell_type": "markdown",
   "metadata": {},
   "source": [
    "# Config"
   ]
  },
  {
   "cell_type": "code",
   "execution_count": 4,
   "metadata": {},
   "outputs": [
    {
     "name": "stdout",
     "output_type": "stream",
     "text": [
      "data load completed successfully\n"
     ]
    }
   ],
   "source": [
    "# Load the function to load raw data\n",
    "\n",
    "from src.stages.data_load import data_load\n",
    "\n",
    "# Call function\n",
    "data_load(config_file = 'params.yaml')"
   ]
  },
  {
   "cell_type": "code",
   "execution_count": 5,
   "metadata": {},
   "outputs": [
    {
     "name": "stdout",
     "output_type": "stream",
     "text": [
      "data load completed successfully\n"
     ]
    }
   ],
   "source": [
    "# Shell prompt for running \"load_data\" function\n",
    "\n",
    "!python3 src/stages/data_load.py --config=params.yaml"
   ]
  },
  {
   "cell_type": "code",
   "execution_count": 6,
   "metadata": {},
   "outputs": [
    {
     "name": "stdout",
     "output_type": "stream",
     "text": [
      "iris.csv\n"
     ]
    }
   ],
   "source": [
    "%%bash \n",
    "\n",
    "# View the Raw Iris dataset saved \n",
    "\n",
    "ls data/raw"
   ]
  },
  {
   "cell_type": "markdown",
   "metadata": {},
   "source": [
    "## Extract feautures using python module at src/stages/featurize.py"
   ]
  },
  {
   "cell_type": "code",
   "execution_count": 7,
   "metadata": {},
   "outputs": [
    {
     "name": "stdout",
     "output_type": "stream",
     "text": [
      "2024-01-15 09:30:00,157 — FEATURIZE — INFO — Load the raw data\n",
      "2024-01-15 09:30:00,166 — FEATURIZE — INFO — Curate by extraction of features from the dataset\n",
      "2024-01-15 09:30:00,169 — FEATURIZE — INFO — Save features\n"
     ]
    }
   ],
   "source": [
    "# Load,curate and save features (x1,...xn) the function to load raw data\n",
    "\n",
    "from src.stages.featurize import featurize\n",
    "\n",
    "# Call function\n",
    "featurize(config_path = 'params.yaml')"
   ]
  },
  {
   "cell_type": "code",
   "execution_count": 8,
   "metadata": {},
   "outputs": [
    {
     "name": "stdout",
     "output_type": "stream",
     "text": [
      "2024-01-15 09:30:21,699 — FEATURIZE — INFO — Load the raw data\n",
      "2024-01-15 09:30:21,706 — FEATURIZE — INFO — Curate by extraction of features from the dataset\n",
      "2024-01-15 09:30:21,708 — FEATURIZE — INFO — Save features\n"
     ]
    }
   ],
   "source": [
    "# Shell prompt for running \"load_data\" function. Load,curate and save features (x1,...xn)\n",
    "\n",
    "!python src/stages/featurize.py --config=params.yaml"
   ]
  },
  {
   "cell_type": "markdown",
   "metadata": {},
   "source": [
    "# Split dataset"
   ]
  },
  {
   "cell_type": "code",
   "execution_count": 9,
   "metadata": {},
   "outputs": [
    {
     "name": "stdout",
     "output_type": "stream",
     "text": [
      "2024-01-15 09:31:43,126 — DATA_SPLIT — INFO — Load features\n",
      "2024-01-15 09:31:43,137 — DATA_SPLIT — INFO — Split features into train and test sets\n",
      "2024-01-15 09:31:43,140 — DATA_SPLIT — INFO — Save features for training and testing models\n"
     ]
    }
   ],
   "source": [
    "# Call the Split module by loading saved features from local memory, splitting into train and test sets; and saving completion\n",
    "\n",
    "from src.stages.data_split import data_split\n",
    "\n",
    "# Call function\n",
    "data_split(config_path = 'params.yaml')"
   ]
  },
  {
   "cell_type": "code",
   "execution_count": 10,
   "metadata": {},
   "outputs": [
    {
     "name": "stdout",
     "output_type": "stream",
     "text": [
      "2024-01-15 09:31:51,795 — DATA_SPLIT — INFO — Load features\n",
      "2024-01-15 09:31:51,804 — DATA_SPLIT — INFO — Split features into train and test sets\n",
      "2024-01-15 09:31:51,805 — DATA_SPLIT — INFO — Save features for training and testing models\n"
     ]
    }
   ],
   "source": [
    "# Shell prompt for running \"data split\" function\n",
    "\n",
    "!python3 src/stages/data_split.py --config=params.yaml"
   ]
  },
  {
   "cell_type": "markdown",
   "metadata": {},
   "source": [
    "# Train"
   ]
  },
  {
   "cell_type": "code",
   "execution_count": 22,
   "metadata": {},
   "outputs": [
    {
     "name": "stdout",
     "output_type": "stream",
     "text": [
      "2024-01-15 10:22:31,528 — TRAIN — INFO — Get model/estimator name\n",
      "2024-01-15 10:22:31,529 — TRAIN — INFO — The name of Model/Estimator: logreg\n",
      "2024-01-15 10:22:31,530 — TRAIN — INFO — Load train dataset\n",
      "2024-01-15 10:22:31,544 — TRAIN — INFO — Train model/estimator\n",
      "Fitting 3 folds for each of 1 candidates, totalling 3 fits\n",
      "2024-01-15 10:22:31,577 — TRAIN — INFO — Best score: 0.857564307288572\n",
      "2024-01-15 10:22:31,578 — TRAIN — INFO — Trained Model Saved\n"
     ]
    }
   ],
   "source": [
    "# Name model,Load, train and save model/estimator\n",
    "\n",
    "from src.stages.train import train_model\n",
    "\n",
    "# Call function\n",
    "train_model(config_path = 'params.yaml')"
   ]
  },
  {
   "cell_type": "code",
   "execution_count": 21,
   "metadata": {},
   "outputs": [
    {
     "name": "stdout",
     "output_type": "stream",
     "text": [
      "2024-01-15 10:22:21,429 — TRAIN — INFO — Get model/estimator name\n",
      "2024-01-15 10:22:21,429 — TRAIN — INFO — The name of Model/Estimator: logreg\n",
      "2024-01-15 10:22:21,429 — TRAIN — INFO — Load train dataset\n",
      "2024-01-15 10:22:21,440 — TRAIN — INFO — Train model/estimator\n",
      "Fitting 3 folds for each of 1 candidates, totalling 3 fits\n",
      "2024-01-15 10:22:21,463 — TRAIN — INFO — Best score: 0.857564307288572\n",
      "2024-01-15 10:22:21,463 — TRAIN — INFO — Trained Model Saved\n"
     ]
    }
   ],
   "source": [
    "# Shell prompt for running \"train model\" function\n",
    "\n",
    "!python3 src/stages/train.py --config=params.yaml"
   ]
  },
  {
   "cell_type": "markdown",
   "metadata": {},
   "source": [
    "#### 4.  EVALUATE MODEL : load dataset,test, Evaluate with F1 and CM and save model/estimator"
   ]
  },
  {
   "cell_type": "code",
   "execution_count": 28,
   "metadata": {},
   "outputs": [
    {
     "name": "stdout",
     "output_type": "stream",
     "text": [
      "2024-01-15 10:51:16,267 — EVALUATE — INFO — Load model\n",
      "2024-01-15 10:51:16,276 — EVALUATE — INFO — Load test dataset\n",
      "2024-01-15 10:51:16,288 — EVALUATE — INFO — Evaluate (build report)\n",
      "2024-01-15 10:51:16,295 — EVALUATE — INFO — Save metrics\n",
      "2024-01-15 10:51:16,302 — EVALUATE — INFO — F1 metrics file saved to : reports/metrics.json\n",
      "2024-01-15 10:51:16,303 — EVALUATE — INFO — Save confusion matrix\n",
      "2024-01-15 10:51:16,474 — EVALUATE — INFO — Confusion matrix saved to : reports/confusion_matrix.png\n"
     ]
    },
    {
     "data": {
      "image/png": "[encoded data removed]",
      "text/plain": [
       "<Figure size 800x600 with 2 Axes>"
      ]
     },
     "metadata": {},
     "output_type": "display_data"
    }
   ],
   "source": [
    "\n",
    "#  Load dataset,test, Evaluate with F1 and CM and save model/estimator\n",
    "\n",
    "from src.stages.evaluate import evaluate_model\n",
    "\n",
    "\n",
    "# Call function\n",
    "evaluate_model(config_path = 'params.yaml')"
   ]
  },
  {
   "cell_type": "code",
   "execution_count": 29,
   "metadata": {},
   "outputs": [
    {
     "name": "stdout",
     "output_type": "stream",
     "text": [
      "2024-01-15 10:51:24,829 — EVALUATE — INFO — Load model\n",
      "2024-01-15 10:51:24,866 — EVALUATE — INFO — Load test dataset\n",
      "2024-01-15 10:51:24,877 — EVALUATE — INFO — Evaluate (build report)\n",
      "2024-01-15 10:51:24,880 — EVALUATE — INFO — Save metrics\n",
      "2024-01-15 10:51:24,884 — EVALUATE — INFO — F1 metrics file saved to : reports/metrics.json\n",
      "2024-01-15 10:51:24,884 — EVALUATE — INFO — Save confusion matrix\n",
      "2024-01-15 10:51:25,005 — EVALUATE — INFO — Confusion matrix saved to : reports/confusion_matrix.png\n"
     ]
    }
   ],
   "source": [
    "# Shell prompt for running \"EVALUATE MODEL\" function. oad dataset,test, Evaluate with F1 and CM and save model/estimator\n",
    "\n",
    "!python3 src/stages/evaluate.py --config=params.yaml"
   ]
  },
  {
   "cell_type": "code",
   "execution_count": null,
   "metadata": {},
   "outputs": [],
   "source": []
  }
 ],
 "metadata": {
  "kernelspec": {
   "display_name": "Python 3 (ipykernel)",
   "language": "python",
   "name": "python3"
  },
  "language_info": {
   "codemirror_mode": {
    "name": "ipython",
    "version": 3
   },
   "file_extension": ".py",
   "mimetype": "text/x-python",
   "name": "python",
   "nbconvert_exporter": "python",
   "pygments_lexer": "ipython3",
   "version": "3.10.12"
  },
  "toc": {
   "base_numbering": 1,
   "nav_menu": {},
   "number_sections": true,
   "sideBar": true,
   "skip_h1_title": false,
   "title_cell": "Table of Contents",
   "title_sidebar": "Contents",
   "toc_cell": false,
   "toc_position": {},
   "toc_section_display": true,
   "toc_window_display": true
  },
  "varInspector": {
   "cols": {
    "lenName": 16,
    "lenType": 16,
    "lenVar": 40
   },
   "kernels_config": {
    "python": {
     "delete_cmd_postfix": "",
     "delete_cmd_prefix": "del ",
     "library": "var_list.py",
     "varRefreshCmd": "print(var_dic_list())"
    },
    "r": {
     "delete_cmd_postfix": ") ",
     "delete_cmd_prefix": "rm(",
     "library": "var_list.r",
     "varRefreshCmd": "cat(var_dic_list()) "
    }
   },
   "types_to_exclude": [
    "module",
    "function",
    "builtin_function_or_method",
    "instance",
    "_Feature"
   ],
   "window_display": false
  }
 },
 "nbformat": 4,
 "nbformat_minor": 4
}
